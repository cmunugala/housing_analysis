{
 "cells": [
  {
   "cell_type": "markdown",
   "metadata": {},
   "source": [
    "Data Sources:\n",
    "\n",
    "RHPI\n",
    "City market Tracker\n",
    "mortgage30us\n",
    "la_unemployment"
   ]
  },
  {
   "cell_type": "code",
   "execution_count": 4,
   "metadata": {},
   "outputs": [],
   "source": [
    "import os\n",
    "import pandas as pd"
   ]
  },
  {
   "cell_type": "code",
   "execution_count": 7,
   "metadata": {},
   "outputs": [],
   "source": [
    "script_dir = os.path.dirname(os.path.realpath('dev.ipynb'))"
   ]
  },
  {
   "cell_type": "code",
   "execution_count": 21,
   "metadata": {},
   "outputs": [],
   "source": [
    "def  process_rhpi():\n",
    "\n",
    "    #read in rhpi data\n",
    "\n",
    "    rhpi = pd.read_csv(f'{script_dir}/../data/rhpi.csv',encoding=\"utf-16\",sep='\\t')\n",
    "\n",
    "    #subset data for los angeles\n",
    "\n",
    "    la_rhpi = rhpi[rhpi['Region Name'] == \"Los Angeles, CA\"][['Month, Year of Date','Redfin HPI MoM']]\n",
    "\n",
    "    #convert types, rename, and sort index\n",
    "    la_rhpi['Month, Year of Date'] = pd.to_datetime(la_rhpi['Month, Year of Date'])\n",
    "    la_rhpi.rename(columns={'Month, Year of Date':'Date'},inplace=True)\n",
    "    la_rhpi.sort_values('Date',inplace=True)\n",
    "    la_rhpi.set_index('Date',inplace=True)\n",
    "\n",
    "    #fix formatting\n",
    "    la_rhpi['Redfin HPI MoM'] = la_rhpi['Redfin HPI MoM'].apply(lambda x:float(str(x).replace('%','')))\n",
    "\n",
    "    #make time series just the RHPI month over month\n",
    "    la_rhpi = la_rhpi['Redfin HPI MoM']\n",
    "    la_rhpi.dropna(inplace=True)\n",
    "\n",
    "    original_la_rhpi = la_rhpi.copy()\n",
    "\n",
    "    #get last date in time series\n",
    "    last_date = la_rhpi.index[-1].strftime('%Y-%m-%d')\n",
    "\n",
    "\n",
    "    return la_rhpi,original_la_rhpi,last_date"
   ]
  },
  {
   "cell_type": "code",
   "execution_count": 33,
   "metadata": {},
   "outputs": [],
   "source": [
    "a,b,last_date = process_rhpi()"
   ]
  },
  {
   "cell_type": "code",
   "execution_count": 31,
   "metadata": {},
   "outputs": [],
   "source": [
    "def process_redfin_city_data(last_date):\n",
    "\n",
    "    #import housing related information by city\n",
    "\n",
    "    info = pd.read_csv(f'{script_dir}/../data/city_market_tracker.tsv000.gz',sep='\\t',compression='gzip')\n",
    "\n",
    "    #take subset for los angeles and take mean of variables across different periods and cities to get one mean per period for LA\n",
    "    la_info = info[(info['parent_metro_region'] == 'Los Angeles, CA') & (info['property_type'] == 'Single Family Residential')]\n",
    "    features = la_info.groupby(['period_begin']).mean()[['median_sale_price_mom','median_list_price_mom','median_ppsf_mom','median_list_ppsf_mom','homes_sold_mom','new_listings_mom','inventory_mom','sold_above_list_mom','price_drops_mom','median_dom_mom','months_of_supply_mom','avg_sale_to_list_mom']]\n",
    "\n",
    "    #make index datetime type and set date to match rhpi\n",
    "    features.index = pd.to_datetime(features.index)\n",
    "    features = features[(features.index >= '2012-04-01') & (features.index <= last_date)]\n",
    "\n",
    "    return features"
   ]
  },
  {
   "cell_type": "code",
   "execution_count": 37,
   "metadata": {},
   "outputs": [],
   "source": [
    "def process_mortage_data(last_date):\n",
    "\n",
    "    mortgage = pd.read_csv(f'{script_dir}/../data/MORTGAGE30US.csv')\n",
    "\n",
    "    #set date in datetime format as index\n",
    "    mortgage['DATE'] = pd.to_datetime(mortgage['DATE'])\n",
    "    mortgage.set_index('DATE', inplace=True)\n",
    "\n",
    "    #fill missing values that are '.' values with previous value\n",
    "    mortgage = mortgage.replace('.',pd.NA).ffill()\n",
    "\n",
    "    mortgage['MORTGAGE30US'] = mortgage['MORTGAGE30US'].apply(lambda x:float(x))\n",
    "\n",
    "    #convert weekly data to monthly data and make every datetime the beginning of the month\n",
    "    mortgage = mortgage.resample('M').mean()\n",
    "    mortgage.index = mortgage.index.to_period('M').to_timestamp('D')\n",
    "\n",
    "    #select dates to match rhpi data\n",
    "    mortgage = mortgage[(mortgage.index >= '2012-04-01') & (mortgage.index <= last_date)]\n",
    "\n",
    "    mortgage = mortgage['MORTGAGE30US']\n",
    "\n",
    "    return mortgage"
   ]
  },
  {
   "cell_type": "code",
   "execution_count": 60,
   "metadata": {},
   "outputs": [],
   "source": [
    "def process_unemployment(last_date):\n",
    "\n",
    "    #read in unemployment data\n",
    "    unemp = pd.read_csv(f'{script_dir}/../data/LOSA106UR.csv')\n",
    "    unemp.rename(columns={'LOSA106UR':'unemployment rate'},inplace=True)\n",
    "\n",
    "    #change date variable to datetime and make it the index\n",
    "    unemp['DATE'] = pd.to_datetime(unemp['DATE'])\n",
    "    unemp.set_index('DATE',inplace=True)\n",
    "\n",
    "\n",
    "    #subset series to match la rhpi data\n",
    "    unemp = unemp[(unemp.index >= '2012-04-01') & (unemp.index <= last_date)]\n",
    "    unemp = unemp['unemployment rate']\n",
    "\n",
    "    return unemp"
   ]
  },
  {
   "cell_type": "code",
   "execution_count": 39,
   "metadata": {},
   "outputs": [
    {
     "data": {
      "text/plain": [
       "DATE\n",
       "2012-04-01    3.9100\n",
       "2012-05-01    3.7980\n",
       "2012-06-01    3.6750\n",
       "2012-07-01    3.5500\n",
       "2012-08-01    3.6020\n",
       "               ...  \n",
       "2024-03-01    6.8200\n",
       "2024-04-01    6.9925\n",
       "2024-05-01    7.0600\n",
       "2024-06-01    6.9175\n",
       "2024-07-01    6.8475\n",
       "Freq: MS, Name: MORTGAGE30US, Length: 148, dtype: float64"
      ]
     },
     "execution_count": 39,
     "metadata": {},
     "output_type": "execute_result"
    }
   ],
   "source": [
    "process_mortage_data(last_date)"
   ]
  },
  {
   "cell_type": "code",
   "execution_count": 63,
   "metadata": {},
   "outputs": [
    {
     "data": {
      "text/plain": [
       "Date\n",
       "2012-04-01    1.73\n",
       "2012-05-01    1.56\n",
       "2012-06-01    1.93\n",
       "2012-07-01    0.88\n",
       "2012-08-01    1.47\n",
       "              ... \n",
       "2024-01-01    1.20\n",
       "2024-02-01    1.63\n",
       "2024-03-01    1.48\n",
       "2024-04-01    0.69\n",
       "2024-05-01    0.14\n",
       "Name: Redfin HPI MoM, Length: 146, dtype: float64"
      ]
     },
     "execution_count": 63,
     "metadata": {},
     "output_type": "execute_result"
    }
   ],
   "source": [
    "a[a.index <= '2024-05-01']"
   ]
  },
  {
   "cell_type": "code",
   "execution_count": null,
   "metadata": {},
   "outputs": [],
   "source": []
  },
  {
   "cell_type": "code",
   "execution_count": 22,
   "metadata": {},
   "outputs": [],
   "source": [
    "a,b,c = process_rhpi()"
   ]
  }
 ],
 "metadata": {
  "kernelspec": {
   "display_name": "datasci",
   "language": "python",
   "name": "python3"
  },
  "language_info": {
   "codemirror_mode": {
    "name": "ipython",
    "version": 3
   },
   "file_extension": ".py",
   "mimetype": "text/x-python",
   "name": "python",
   "nbconvert_exporter": "python",
   "pygments_lexer": "ipython3",
   "version": "3.9.13"
  }
 },
 "nbformat": 4,
 "nbformat_minor": 2
}
