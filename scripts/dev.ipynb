{
 "cells": [
  {
   "cell_type": "code",
   "execution_count": 30,
   "metadata": {},
   "outputs": [],
   "source": [
    "import os\n",
    "import glob"
   ]
  },
  {
   "cell_type": "code",
   "execution_count": 49,
   "metadata": {},
   "outputs": [],
   "source": [
    "script_dir = os.path.dirname(os.path.realpath('dev.ipynb'))"
   ]
  },
  {
   "cell_type": "code",
   "execution_count": 70,
   "metadata": {},
   "outputs": [],
   "source": [
    "with open(f'{script_dir}/../README.md', 'r') as file:\n",
    "        readme_lines = file.readlines()"
   ]
  },
  {
   "cell_type": "code",
   "execution_count": 71,
   "metadata": {},
   "outputs": [],
   "source": [
    "plots = glob.glob(f'{script_dir}/../forecast_plots/*forecast*')\n",
    "plots = sorted([x for x in plots if 'zoomed' not in x])\n",
    "zoomed_plots = sorted(glob.glob(f'{script_dir}/../forecast_plots/*zoomed*'))"
   ]
  },
  {
   "cell_type": "code",
   "execution_count": 72,
   "metadata": {},
   "outputs": [],
   "source": [
    "latest_zoomed = zoomed_plots[-1].split('../')[1]\n",
    "latest_normal = plots[-1].split('../')[1]"
   ]
  },
  {
   "cell_type": "code",
   "execution_count": 73,
   "metadata": {},
   "outputs": [
    {
     "data": {
      "text/plain": [
       "'forecast_plots/20240901_forecast.png'"
      ]
     },
     "execution_count": 73,
     "metadata": {},
     "output_type": "execute_result"
    }
   ],
   "source": [
    "latest_normal"
   ]
  },
  {
   "cell_type": "code",
   "execution_count": 74,
   "metadata": {},
   "outputs": [],
   "source": [
    "for i, line in enumerate(readme_lines):\n",
    "    if '![alt text]' in line:\n",
    "        if 'zoomed' in line:\n",
    "            new_line = f'![alt text]({latest_zoomed})\\n'\n",
    "            readme_lines[i] = new_line\n",
    "        elif 'forecast.png' in line:\n",
    "            new_line = f'![alt text]({latest_normal})\\n'\n",
    "            readme_lines[i] = new_line\n",
    "        else:\n",
    "            continue"
   ]
  },
  {
   "cell_type": "code",
   "execution_count": 75,
   "metadata": {},
   "outputs": [
    {
     "data": {
      "text/plain": [
       "[\"# Forecasting Redfin's Housing Price Index In Los Angeles\\n\",\n",
       " '\\n',\n",
       " '### Background\\n',\n",
       " '\\n',\n",
       " 'In 2023, Redfin released their Housing Price Index, which uses the repeat sales pricing method to measure changes in U.S home prices. More information about the index can be found at - https://www.redfin.com/news/redfin-home-price-index/. They release their index monthly, with about a 2 month lag. In this project, I use various time series forecasting methods to forecast their index into the future, allowing interested parties such as real estate professionals, buyers, sellers, and financial institutions to look ahead at what is coming in the housing market. \\n',\n",
       " '\\n',\n",
       " 'I decided to perform this analysis only on the Los Angeles Area to keep my analysis more focused. \\n',\n",
       " '\\n',\n",
       " '![alt text](forecast_plots/original_series.png)\\n',\n",
       " '\\n',\n",
       " '### Methods and Data\\n',\n",
       " '\\n',\n",
       " 'To forecast this time series, I tried using both arima methods and vector autoregression methods. Ultimately, the vector autoregression results gave the better forecasts. \\n',\n",
       " '\\n',\n",
       " 'Input features to the vector autoregression included: \\n',\n",
       " '\\n',\n",
       " '* Median List Price MoM\\n',\n",
       " '* Median Price Per Sqaure Foot MoM\\n',\n",
       " '* Median List Price Per Sqaure Foot MoM\\n',\n",
       " '* Sold above List MoM\\n',\n",
       " '* Avg Sale to List MoM\\n',\n",
       " '* Mortgage Rate (National 30 yr fixed) \\n',\n",
       " '* Unemployment Rate in Los Angeles\\n',\n",
       " '\\n',\n",
       " '### Results\\n',\n",
       " '\\n',\n",
       " '![alt text](forecast_plots/20240901_forecast.png)\\n',\n",
       " '\\n',\n",
       " '\\n',\n",
       " 'Here is a more zoomed in look:\\n',\n",
       " '\\n',\n",
       " '![alt text](forecast_plots/20241001_zoomed_forecast.png)\\n',\n",
       " '\\n',\n",
       " '\\n',\n",
       " 'Model Performance:\\n',\n",
       " '\\n',\n",
       " 'MAE on Test Set = 0.548\\n',\n",
       " '\\n',\n",
       " '### Next Steps\\n',\n",
       " '\\n',\n",
       " '* Formalize evaluation scripts\\n',\n",
       " '* Display Results in Tableau Dashboard\\n',\n",
       " '* Use Github Actions to create CI/CD pipeline to automatically retrain model and publish new model ']"
      ]
     },
     "execution_count": 75,
     "metadata": {},
     "output_type": "execute_result"
    }
   ],
   "source": [
    "readme_lines"
   ]
  },
  {
   "cell_type": "code",
   "execution_count": 4,
   "metadata": {},
   "outputs": [
    {
     "data": {
      "text/plain": [
       "[\"# Forecasting Redfin's Housing Price Index In Los Angeles\\n\",\n",
       " '\\n',\n",
       " '### Background\\n',\n",
       " '\\n',\n",
       " 'In 2023, Redfin released their Housing Price Index, which uses the repeat sales pricing method to measure changes in U.S home prices. More information about the index can be found at - https://www.redfin.com/news/redfin-home-price-index/. They release their index monthly, with about a 2 month lag. In this project, I use various time series forecasting methods to forecast their index into the future, allowing interested parties such as real estate professionals, buyers, sellers, and financial institutions to look ahead at what is coming in the housing market. \\n',\n",
       " '\\n',\n",
       " 'I decided to perform this analysis only on the Los Angeles Area to keep my analysis more focused. \\n',\n",
       " '\\n',\n",
       " '![alt text](forecast_plots/original_series.png)\\n',\n",
       " '\\n',\n",
       " '### Methods and Data\\n',\n",
       " '\\n',\n",
       " 'To forecast this time series, I tried using both arima methods and vector autoregression methods. Ultimately, the vector autoregression results gave the better forecasts. \\n',\n",
       " '\\n',\n",
       " 'Input features to the vector autoregression included: \\n',\n",
       " '\\n',\n",
       " '* Median List Price MoM\\n',\n",
       " '* Median Price Per Sqaure Foot MoM\\n',\n",
       " '* Median List Pripce Per Sqaure Foot MoM\\n',\n",
       " '* Sold above List MoM\\n',\n",
       " '* Avg Sale to List MoM\\n',\n",
       " '* Mortgage Rate (National 30 yr fixed) \\n',\n",
       " '* Unemployment Rate in Los Angeles\\n',\n",
       " '\\n',\n",
       " '### Results\\n',\n",
       " '\\n',\n",
       " '![alt text](forecast_plots/20240901_forecast.png)\\n',\n",
       " '\\n',\n",
       " '\\n',\n",
       " 'Here is a more zoomed in look:\\n',\n",
       " '\\n',\n",
       " '![alt text](forecast_plots/20240901_zoomed_forecast.png)\\n',\n",
       " '\\n',\n",
       " '\\n',\n",
       " 'Model Performance:\\n',\n",
       " '\\n',\n",
       " 'MAE on Test Set = 0.548\\n',\n",
       " '\\n',\n",
       " '### Next Steps\\n',\n",
       " '\\n',\n",
       " '* Formalize evaluation scripts\\n',\n",
       " '* Display Results in Tableau Dashboard\\n',\n",
       " '* Use Github Actions to create CI/CD pipeline to automatically retrain model and publish new model ']"
      ]
     },
     "execution_count": 4,
     "metadata": {},
     "output_type": "execute_result"
    }
   ],
   "source": [
    "readme_lines"
   ]
  }
 ],
 "metadata": {
  "kernelspec": {
   "display_name": "datasci",
   "language": "python",
   "name": "python3"
  },
  "language_info": {
   "codemirror_mode": {
    "name": "ipython",
    "version": 3
   },
   "file_extension": ".py",
   "mimetype": "text/x-python",
   "name": "python",
   "nbconvert_exporter": "python",
   "pygments_lexer": "ipython3",
   "version": "3.9.13"
  }
 },
 "nbformat": 4,
 "nbformat_minor": 2
}
